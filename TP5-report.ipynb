{
 "cells": [
  {
   "cell_type": "markdown",
   "metadata": {},
   "source": [
    "# Consigne"
   ]
  },
  {
   "cell_type": "markdown",
   "metadata": {},
   "source": [
    "* lancer un container postgresql et familiarisez vous avec la cli (commande `psql`)\n",
    "* ecrire un fichier `docker-compose.yml` avec un service `database`, un fichier d'environement `database.env` et un volume `database-data`\n",
    "\t* Pourquoi utiliser un fichier d'environement ?\n",
    "\t* Pourquoi monter un volume ?  \n",
    "* Run le container et entrer dedans afin d'insérer une base de données avec au moins 5 champs. \n",
    "\t* run le container avec `docker exec`\n",
    "\t* run le container avec `docker-compose run` \n",
    "\t* Expliquer la difference entre ses commandes\n",
    "\t* Que fait le fichier `docker-entrypoint.sh` à la racine du container?  \n",
    "* Executer une requête afin de vérifier que les données sont bien en base.  \n",
    "* **(bonus)** faite un dump de votre container et restaurez le\n",
    "* **(bonus)** faite un script python qui effectue les opération CRUD sur votre base de données docker. "
   ]
  },
  {
   "cell_type": "markdown",
   "metadata": {},
   "source": [
    "# Reponse"
   ]
  },
  {
   "cell_type": "markdown",
   "metadata": {},
   "source": [
    "docker pull postgres"
   ]
  },
  {
   "cell_type": "markdown",
   "metadata": {},
   "source": [
    "docker run postgres"
   ]
  },
  {
   "cell_type": "markdown",
   "metadata": {},
   "source": [
    "docker run -e POSTGRES_PASSWORD=password postgres"
   ]
  },
  {
   "cell_type": "markdown",
   "metadata": {},
   "source": [
    "docker exec -it eaccea764e70 psql -U postgres"
   ]
  },
  {
   "cell_type": "code",
   "execution_count": null,
   "metadata": {},
   "outputs": [],
   "source": []
  }
 ],
 "metadata": {
  "kernelspec": {
   "display_name": "Python 3",
   "language": "python",
   "name": "python3"
  },
  "language_info": {
   "codemirror_mode": {
    "name": "ipython",
    "version": 3
   },
   "file_extension": ".py",
   "mimetype": "text/x-python",
   "name": "python",
   "nbconvert_exporter": "python",
   "pygments_lexer": "ipython3",
   "version": "3.8.5"
  }
 },
 "nbformat": 4,
 "nbformat_minor": 4
}
